{
  "cells": [
    {
      "cell_type": "markdown",
      "metadata": {
        "id": "FAKKLHNu6Ybx"
      },
      "source": []
    },
    {
      "cell_type": "code",
      "source": [
        "#@markdown # Install\n",
        "%cd /content\n",
        "!git clone https://github.com/ZFTurbo/Music-Source-Separation-Training"
      ],
      "metadata": {
        "id": "Lp9841CY9dAG",
        "cellView": "form"
      },
      "execution_count": null,
      "outputs": []
    },
    {
      "cell_type": "code",
      "source": [
        "#@markdown #Gdrive connection\n",
        "from google.colab import drive\n",
        "drive.mount('/content/drive')"
      ],
      "metadata": {
        "id": "z1ZsfuqlTu-P",
        "cellView": "form"
      },
      "execution_count": null,
      "outputs": []
    },
    {
      "cell_type": "code",
      "source": [
        "#@markdown #Ensemble\n",
        "output_file = \"/content/drive/MyDrive/output.wav\" #@param {type:\"string\"}\n",
        "\n",
        "type = \"avg_wave\" #@param [\"avg_wave\", \"median_wave\", \"min_wave\", \"max_wave\", \"avg_fft\", \"median_fft\", \"min_fft\", \"max_fft\"]\n",
        "\n",
        "#@markdown ---\n",
        "\n",
        "input_file_1 = \"\" #@param {type:\"string\"}\n",
        "input_file_2 = \"\" #@param {type:\"string\"}\n",
        "input_file_3 = \"\" #@param {type:\"string\"}\n",
        "input_file_4 = \"\" #@param {type:\"string\"}\n",
        "input_file_5 = \"\" #@param {type:\"string\"}\n",
        "input_file_6 = \"\" #@param {type:\"string\"}\n",
        "input_file_7 = \"\" #@param {type:\"string\"}\n",
        "input_file_8 = \"\" #@param {type:\"string\"}\n",
        "input_file_9 = \"\" #@param {type:\"string\"}\n",
        "input_file_10 = \"\" #@param {type:\"string\"}\n",
        "\n",
        "weight_file_1 = 1 #@param {type:\"slider\", min:1, max:10, step:1}\n",
        "weight_file_2 = 1 #@param {type:\"slider\", min:1, max:10, step:1}\n",
        "weight_file_3 = 1 #@param {type:\"slider\", min:1, max:10, step:1}\n",
        "weight_file_4 = 1 #@param {type:\"slider\", min:1, max:10, step:1}\n",
        "weight_file_5 = 1 #@param {type:\"slider\", min:1, max:10, step:1}\n",
        "weight_file_6 = 1 #@param {type:\"slider\", min:1, max:10, step:1}\n",
        "weight_file_7 = 1 #@param {type:\"slider\", min:1, max:10, step:1}\n",
        "weight_file_8 = 1 #@param {type:\"slider\", min:1, max:10, step:1}\n",
        "weight_file_9 = 1 #@param {type:\"slider\", min:1, max:10, step:1}\n",
        "weight_file_10 = 1 #@param {type:\"slider\", min:1, max:10, step:1}\n",
        "\n",
        "\n",
        "input_files = []\n",
        "for i in range(1, 11):\n",
        "    input_files.append(globals()[f'input_file_{i}'])\n",
        "print(input_files)\n",
        "\n",
        "weights = []\n",
        "\n",
        "for i in range(1, 11):\n",
        "    weights.append(globals()[f'weight_file_{i}'])\n",
        "\n",
        "print(weights)\n",
        "\n",
        "# remove empty inputs and add quotes\n",
        "input_files = [f'\"{file}\"' for file in input_files if file]\n",
        "\n",
        "total_input = len(input_files)\n",
        "#print(f'number of input files = {total_input}')\n",
        "\n",
        "input_files_concat = ' '.join(input_files)\n",
        "\n",
        "\n",
        "# number of weight entries must be same as number of input files\n",
        "weights = [w for w in weights][:total_input]\n",
        "\n",
        "input_files_concat = ' '.join(input_files)\n",
        "weights_concat = ' '.join(map(str, weights))\n",
        "\n",
        "%cd '/content/Music-Source-Separation-Training/'\n",
        "\n",
        "!python ensemble.py \\\n",
        "    --files {input_files_concat} \\\n",
        "    --weights {weights_concat} \\\n",
        "    --type avg_wave \\\n",
        "    --output {output_file}"
      ],
      "metadata": {
        "id": "fxzSk0FcUBNk",
        "cellView": "form"
      },
      "execution_count": null,
      "outputs": []
    }
  ],
  "metadata": {
    "colab": {
      "provenance": []
    },
    "kernelspec": {
      "display_name": "Python 3",
      "name": "python3"
    },
    "language_info": {
      "name": "python"
    }
  },
  "nbformat": 4,
  "nbformat_minor": 0
}