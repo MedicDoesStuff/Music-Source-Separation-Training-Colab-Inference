{
  "nbformat": 4,
  "nbformat_minor": 0,
  "metadata": {
    "colab": {
      "provenance": [],
      "gpuType": "T4"
    },
    "kernelspec": {
      "name": "python3",
      "display_name": "Python 3"
    },
    "language_info": {
      "name": "python"
    },
    "accelerator": "GPU"
  },
  "cells": [
    {
      "cell_type": "markdown",
      "source": [
        "# Colab inference of ZFTurbo's [Music-Source-Separation-Training](https://github.com/ZFTurbo/Music-Source-Separation-Training/)\n",
        "\n",
        "\n",
        "<font size=1>*made by [jarredou](https://github.com/jarredou)*</font>\n"
      ],
      "metadata": {
        "id": "dC6MxtLlx7vN"
      }
    },
    {
      "cell_type": "code",
      "execution_count": null,
      "metadata": {
        "id": "ScA4L7gmQEjM",
        "cellView": "form"
      },
      "outputs": [],
      "source": [
        "import base64\n",
        "#@markdown # Install\n",
        "\n",
        "%cd /content\n",
        "!git clone https://github.com/ZFTurbo/Music-Source-Separation-Training\n",
        "\n",
        "#generate new requirements.txt file for faster colab install\n",
        "req = 'IyB0b3JjaCAjPT0yLjAuMQ0KbnVtcHkNCnBhbmRhcw0Kc2NpcHkNCnNvdW5kZmlsZQ0KbWxfY29sbGVjdGlvbnMNCnRxZG0NCnNlZ21lbnRhdGlvbl9tb2RlbHNfcHl0b3JjaD09MC4zLjMNCnRpbW09PTAuOS4yDQphdWRpb21lbnRhdGlvbnM9PTAuMjQuMA0KcGVkYWxib2FyZD09MC44LjENCm9tZWdhY29uZj09Mi4yLjMNCmJlYXJ0eXBlPT0wLjE0LjENCnJvdGFyeV9lbWJlZGRpbmdfdG9yY2g9PTAuMy41DQplaW5vcHM9PTAuNi4xDQpsaWJyb3NhDQpkZW11Y3MgIz09NC4wLjANCiMgdHJhbnNmb3JtZXJzPT00LjM1LjANCnRvcmNobWV0cmljcz09MC4xMS40DQpzcGFmZT09MC4zLjINCnByb3RvYnVmPT0zLjIwLjMNCnRvcmNoX2F1ZGlvbWVudGF0aW9ucw0KYXN0ZXJvaWQ9PTAuNy4wDQphdXJhbG9zcw0KdG9yY2hzZWcNCg=='\n",
        "dec_req = base64.b64decode(req).decode('utf-8')\n",
        "f = open(\"Music-Source-Separation-Training/requirements.txt\", \"w\")\n",
        "f.write(dec_req)\n",
        "f.close()\n",
        "\n",
        "print('Installing the dependencies... This will take few minutes')\n",
        "!pip install -r 'Music-Source-Separation-Training/requirements.txt' >  &> /dev/null\n",
        "# download models\n",
        "\n",
        "print('Downloading the models... This will take few minutes')\n",
        "!mkdir 'Music-Source-Separation-Training/ckpts'\n",
        "%cd 'Music-Source-Separation-Training/ckpts'\n",
        "\n",
        "# repo models\n",
        "!wget 'https://github.com/ZFTurbo/Music-Source-Separation-Training/releases/download/v1.0.0/config_vocals_mdx23c.yaml'\n",
        "!wget 'https://github.com/ZFTurbo/Music-Source-Separation-Training/releases/download/v1.0.0/model_vocals_mdx23c_sdr_10.17.ckpt'\n",
        "#!wget 'https://github.com/ZFTurbo/Music-Source-Separation-Training/releases/download/v1.0.0/config_vocals_htdemucs.yaml'\n",
        "#!wget 'https://github.com/ZFTurbo/Music-Source-Separation-Training/releases/download/v1.0.0/model_vocals_htdemucs_sdr_8.78.ckpt'\n",
        "!wget 'https://github.com/ZFTurbo/Music-Source-Separation-Training/releases/download/v1.0.0/config_vocals_segm_models.yaml'\n",
        "!wget 'https://github.com/ZFTurbo/Music-Source-Separation-Training/releases/download/v1.0.0/model_vocals_segm_models_sdr_9.77.ckpt'\n",
        "#!wget 'https://github.com/ZFTurbo/Music-Source-Separation-Training/releases/download/v1.0.0/config_vocals_mel_band_roformer.yaml'\n",
        "#!wget 'https://github.com/ZFTurbo/Music-Source-Separation-Training/releases/download/v1.0.0/model_vocals_mel_band_roformer_sdr_8.42.ckpt'\n",
        "#!wget 'https://github.com/ZFTurbo/Music-Source-Separation-Training/releases/download/v1.0.2/config_vocals_swin_upernet.yaml'\n",
        "#!wget 'https://github.com/ZFTurbo/Music-Source-Separation-Training/releases/download/v1.0.2/model_swin_upernet_ep_56_sdr_10.6703.ckpt'\n",
        "!wget 'https://raw.githubusercontent.com/ZFTurbo/Music-Source-Separation-Training/main/configs/viperx/model_bs_roformer_ep_317_sdr_12.9755.yaml'\n",
        "!wget 'https://github.com/TRvlvr/model_repo/releases/download/all_public_uvr_models/model_bs_roformer_ep_317_sdr_12.9755.ckpt'\n",
        "#!wget 'https://raw.githubusercontent.com/ZFTurbo/Music-Source-Separation-Training/main/configs/viperx/model_mel_band_roformer_ep_3005_sdr_11.4360.yaml'\n",
        "#!wget 'https://github.com/TRvlvr/model_repo/releases/download/all_public_uvr_models/model_mel_band_roformer_ep_3005_sdr_11.4360.ckpt'\n",
        "\n",
        "# bandit+\n",
        "!wget 'https://github.com/ZFTurbo/Music-Source-Separation-Training/releases/download/v.1.0.3/config_dnr_bandit_bsrnn_multi_mus64.yaml'\n",
        "!wget 'https://github.com/ZFTurbo/Music-Source-Separation-Training/releases/download/v.1.0.3/model_bandit_plus_dnr_sdr_11.47.chpt'\n",
        "\n",
        "\n",
        "# missing ones\n",
        "!wget 'https://github.com/TRvlvr/model_repo/releases/download/all_public_uvr_models/model_bs_roformer_ep_368_sdr_12.9628.ckpt'\n",
        "!wget 'https://raw.githubusercontent.com/TRvlvr/application_data/main/mdx_model_data/mdx_c_configs/model_bs_roformer_ep_368_sdr_12.9628.yaml'\n",
        "#!wget 'https://github.com/TRvlvr/model_repo/releases/download/all_public_uvr_models/model_bs_roformer_ep_937_sdr_10.5309.ckpt'\n",
        "#!wget 'https://raw.githubusercontent.com/TRvlvr/application_data/main/mdx_model_data/mdx_c_configs/model_bs_roformer_ep_937_sdr_10.5309.yaml'\n",
        "\n",
        "print('Installation is done !')"
      ]
    },
    {
      "cell_type": "code",
      "source": [
        "#@markdown #Gdrive connection\n",
        "from google.colab import drive\n",
        "drive.mount('/content/drive')"
      ],
      "metadata": {
        "cellView": "form",
        "id": "vKOCPJkyw9yh"
      },
      "execution_count": null,
      "outputs": []
    },
    {
      "cell_type": "code",
      "source": [
        "%cd '/content/Music-Source-Separation-Training/'\n",
        "#@markdown # Separation\n",
        "#@markdown #### separation config:\n",
        "input_folder = '/content/drive/MyDrive/input' #@param {type:\"string\"}\n",
        "output_folder = '/content/drive/MyDrive/output' #@param {type:\"string\"}\n",
        "model = 'BandIt_Plus' #@param [\"BS-Roformer_1297\", 'BS-Roformer_1296\", \"VitLarge23\", \"BandIt_Plus\"]\n",
        "\n",
        "if model == 'BS-Roformer_1297':\n",
        "    model_type = 'bs_roformer'\n",
        "    config_path = 'ckpts/model_bs_roformer_ep_317_sdr_12.9755.yaml'\n",
        "    start_check_point = 'ckpts/model_bs_roformer_ep_317_sdr_12.9755.ckpt'\n",
        "\n",
        "elif model == 'BS-Roformer_1296':\n",
        "    model_type = 'bs_roformer'\n",
        "    config_path = 'ckpts/model_bs_roformer_ep_368_sdr_12.9628.yaml'\n",
        "    start_check_point = 'ckpts/model_bs_roformer_ep_368_sdr_12.9628.ckpt'\n",
        "\n",
        "elif model == 'VitLarge23':\n",
        "    model_type = 'segm_models'\n",
        "    config_path = 'ckpts/config_vocals_segm_models.yaml'\n",
        "    start_check_point = 'ckpts/model_vocals_segm_models_sdr_9.77.ckpt'\n",
        "\n",
        "elif model == 'BandIt_Plus':\n",
        "    model_type = 'bandit'\n",
        "    config_path = 'ckpts/config_dnr_bandit_bsrnn_multi_mus64.yaml'\n",
        "    start_check_point = 'ckpts/model_bandit_plus_dnr_sdr_11.47.chpt'\n",
        "\n",
        "\n",
        "\n",
        "!python inference.py \\\n",
        "    --model_type {model_type} \\\n",
        "    --config_path {config_path} \\\n",
        "    --start_check_point {start_check_point} \\\n",
        "    --input_folder {input_folder} \\\n",
        "    --store_dir {output_folder} \\\n",
        "    --extract_instrumental"
      ],
      "metadata": {
        "id": "GS-QezQ-RG64",
        "cellView": "form"
      },
      "execution_count": null,
      "outputs": []
    }
  ]
}
